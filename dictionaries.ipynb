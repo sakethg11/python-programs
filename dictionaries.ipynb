{
  "nbformat": 4,
  "nbformat_minor": 0,
  "metadata": {
    "colab": {
      "name": "dictionaries",
      "provenance": [],
      "authorship_tag": "ABX9TyOoAYmZIxCCQjUlJfqrg2wj",
      "include_colab_link": true
    },
    "kernelspec": {
      "name": "python3",
      "display_name": "Python 3"
    },
    "language_info": {
      "name": "python"
    }
  },
  "cells": [
    {
      "cell_type": "markdown",
      "metadata": {
        "id": "view-in-github",
        "colab_type": "text"
      },
      "source": [
        "<a href=\"https://colab.research.google.com/github/sakethg11/python-programs/blob/module-2/dictionaries.ipynb\" target=\"_parent\"><img src=\"https://colab.research.google.com/assets/colab-badge.svg\" alt=\"Open In Colab\"/></a>"
      ]
    },
    {
      "cell_type": "code",
      "execution_count": null,
      "metadata": {
        "colab": {
          "base_uri": "https://localhost:8080/"
        },
        "id": "y7aX9MEydj-h",
        "outputId": "9766e484-f929-4506-94c0-6fa8df257ba8"
      },
      "outputs": [
        {
          "output_type": "stream",
          "name": "stdout",
          "text": [
            "silver oaks\n"
          ]
        }
      ],
      "source": [
        "thisdict={\n",
        "    'laxman':'hero',\n",
        "    'sai pavan':'reel star',\n",
        "    'sai charan':'silver oaks'\n",
        "}\n",
        "print(thisdict['sai charan'])"
      ]
    },
    {
      "cell_type": "code",
      "source": [
        "thisdict={\n",
        "    'laxman':'hero',\n",
        "    'sai pavan':'reel star',\n",
        "    'sai charan':'silver oaks',\n",
        "    'sai charan':'schooling'\n",
        "}\n",
        "print(len(thisdict))"
      ],
      "metadata": {
        "colab": {
          "base_uri": "https://localhost:8080/"
        },
        "id": "Fq-jmozCfTkT",
        "outputId": "8e10abbe-2b35-47a5-cd2a-af4f3632de34"
      },
      "execution_count": null,
      "outputs": [
        {
          "output_type": "stream",
          "name": "stdout",
          "text": [
            "3\n"
          ]
        }
      ]
    },
    {
      "cell_type": "code",
      "source": [
        "thisdict={\n",
        "    'brand':'bmw',\n",
        "    'electric':'true',\n",
        "    'num': 1984,\n",
        "    'fruits':['red','blue','white']\n",
        "}\n",
        "x=thisdict.keys()\n",
        "print(x)\n",
        "thisdict['colour']=['white']\n",
        "print(x)\n",
        "x=thisdict.values()\n",
        "print(x)"
      ],
      "metadata": {
        "colab": {
          "base_uri": "https://localhost:8080/"
        },
        "id": "vqiujnkGfkqz",
        "outputId": "8a98d759-cbf7-4320-c488-74ff3e674a08"
      },
      "execution_count": null,
      "outputs": [
        {
          "output_type": "stream",
          "name": "stdout",
          "text": [
            "dict_keys(['brand', 'electric', 'num', 'fruits'])\n",
            "dict_keys(['brand', 'electric', 'num', 'fruits', 'colour'])\n",
            "dict_values(['bmw', 'true', 1984, ['red', 'blue', 'white'], ['white']])\n"
          ]
        }
      ]
    },
    {
      "cell_type": "code",
      "source": [
        "placement={\n",
        "    'name':input('enter name'),\n",
        "    'age':input('enter age'),\n",
        "    'number':input('enter mobile number'),\n",
        "    'section':'A',\n",
        "     'cgpa':input('enter cgpa')\n",
        "}\n",
        "print(placement)\n",
        "print(placement['cgpa'])"
      ],
      "metadata": {
        "colab": {
          "base_uri": "https://localhost:8080/"
        },
        "id": "z5m1F-MkgysK",
        "outputId": "46512af1-359c-4fbd-c6c6-a12a76f3d41f"
      },
      "execution_count": null,
      "outputs": [
        {
          "output_type": "stream",
          "name": "stdout",
          "text": [
            "enter namesaketh\n",
            "enter age18\n",
            "enter mobile number35683-28568\n",
            "enter cgpa90\n",
            "{'name': 'saketh', 'age': '18', 'number': '35683-28568', 'section': 'A', 'cgpa': '90'}\n",
            "90\n"
          ]
        }
      ]
    },
    {
      "cell_type": "code",
      "source": [
        ""
      ],
      "metadata": {
        "id": "AkX-pGOLhkFU"
      },
      "execution_count": null,
      "outputs": []
    }
  ]
}