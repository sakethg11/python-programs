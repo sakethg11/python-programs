{
  "nbformat": 4,
  "nbformat_minor": 0,
  "metadata": {
    "colab": {
      "name": "strings ",
      "provenance": [],
      "collapsed_sections": [],
      "include_colab_link": true
    },
    "kernelspec": {
      "name": "python3",
      "display_name": "Python 3"
    },
    "language_info": {
      "name": "python"
    }
  },
  "cells": [
    {
      "cell_type": "markdown",
      "metadata": {
        "id": "view-in-github",
        "colab_type": "text"
      },
      "source": [
        "<a href=\"https://colab.research.google.com/github/sakethg11/python-programs/blob/module-2/strings.ipynb\" target=\"_parent\"><img src=\"https://colab.research.google.com/assets/colab-badge.svg\" alt=\"Open In Colab\"/></a>"
      ]
    },
    {
      "cell_type": "code",
      "execution_count": null,
      "metadata": {
        "id": "A0-4UsXq3yH2",
        "colab": {
          "base_uri": "https://localhost:8080/"
        },
        "outputId": "75c5791f-4fac-4a6d-a22f-014153d2c094"
      },
      "outputs": [
        {
          "output_type": "stream",
          "name": "stdout",
          "text": [
            "Hello this is Laxman Chowdary, and im from Khammam, im persuing my Btech in GITAM University\n"
          ]
        }
      ],
      "source": [
        "#You can assign a multiline string to a variable by using three quotes:Or three single quotes:\n",
        "a='''Hello this is Laxman Chowdary, and im from Khammam, im persuing my Btech in GITAM University'''\n",
        "print (a)"
      ]
    },
    {
      "cell_type": "code",
      "source": [
        "#Get the character at position 1 (remember that the first character has the position 0):\n",
        "a=\"Hello saketh\"\n",
        "print (a[1])"
      ],
      "metadata": {
        "colab": {
          "base_uri": "https://localhost:8080/"
        },
        "id": "YXZ8PqDN-w9p",
        "outputId": "67f8191e-cc13-4910-db5c-27dc1512bf9c"
      },
      "execution_count": null,
      "outputs": [
        {
          "output_type": "stream",
          "name": "stdout",
          "text": [
            "e\n"
          ]
        }
      ]
    },
    {
      "cell_type": "code",
      "source": [
        "#length of a string #(len)\n",
        "a='''Hello this is Laxman Chowdary, and im from Khammam, im persuing my Btech in GITAM University'''\n",
        "print(len(a))"
      ],
      "metadata": {
        "colab": {
          "base_uri": "https://localhost:8080/"
        },
        "id": "p6RHTIg7_Wu1",
        "outputId": "8aebf198-86fd-464a-a8d7-6d1148e2bcbc"
      },
      "execution_count": null,
      "outputs": [
        {
          "output_type": "stream",
          "name": "stdout",
          "text": [
            "92\n"
          ]
        }
      ]
    },
    {
      "cell_type": "code",
      "source": [
        "#Check string\n",
        "a='''Hello this is Laxman Chowdary, and im from Khammam, im persuing my Btech in GITAM University'''\n",
        "print(\"is\" in a)\n",
        "print(\"python\" in a)\n",
        "print(\"im\" in a)\n",
        "print(\",\" in a)\n",
        "print(\"'\" in a)"
      ],
      "metadata": {
        "colab": {
          "base_uri": "https://localhost:8080/"
        },
        "id": "XxvHnu6t-8g6",
        "outputId": "c5d3fdca-c63d-42c3-beab-dc7ef0864623"
      },
      "execution_count": null,
      "outputs": [
        {
          "output_type": "stream",
          "name": "stdout",
          "text": [
            "True\n",
            "False\n",
            "True\n",
            "True\n",
            "False\n"
          ]
        }
      ]
    },
    {
      "cell_type": "code",
      "source": [
        "#If not\n",
        "a='''Hello this is Laxman Chowdary, and im from Khammam, im persuing my Btech in GITAM University'''\n",
        "print(\"Hello\" not in a)\n",
        "print(\"python\" not in a)\n",
        "print(\"this \" not in a)\n",
        "print(\"and\" in a,\"no\" in a)\n"
      ],
      "metadata": {
        "colab": {
          "base_uri": "https://localhost:8080/"
        },
        "id": "Mcgm6V7FAdtL",
        "outputId": "48a01db5-1152-4afe-cfac-e2eb3a02bebf"
      },
      "execution_count": null,
      "outputs": [
        {
          "output_type": "stream",
          "name": "stdout",
          "text": [
            "False\n",
            "True\n",
            "False\n",
            "True False\n"
          ]
        }
      ]
    },
    {
      "cell_type": "code",
      "source": [
        "#Slicing of a String\n",
        "a=\"i went to Radhe Shyam movie\"\n",
        "print(a[0:6])\n",
        "print(a[2:5])\n",
        "print(a[0:200])\n",
        "#slice from the start\n",
        "print(a[:5])\n",
        "#slice to the end\n",
        "print(a[5:])\n",
        "#Negative Indexing\n",
        "print(a[-5:-1])\n",
        "print(a[-13:22])\n",
        "#wrong indexing\n",
        "print(a[5:1])\n",
        "print(a[10:3])"
      ],
      "metadata": {
        "colab": {
          "base_uri": "https://localhost:8080/"
        },
        "id": "qCSakG_-B9UC",
        "outputId": "286739c2-a9d0-492b-ea60-10853de8138c"
      },
      "execution_count": null,
      "outputs": [
        {
          "output_type": "stream",
          "name": "stdout",
          "text": [
            "i went\n",
            "wen\n",
            "i went to Radhe Shyam movie\n",
            "i wen\n",
            "t to Radhe Shyam movie\n",
            "movi\n",
            "e Shyam \n",
            "\n",
            "\n"
          ]
        }
      ]
    },
    {
      "cell_type": "code",
      "source": [
        "#Modifying strings\n",
        "#uppercase and lowercase\n",
        "a = \"Hello, World!\"\n",
        "print(a.upper())\n",
        "\n",
        "print(a.lower())\n",
        "#The strip() method removes any whitespace from the beginning or the end:\n",
        "a=\"    hello\"\n",
        "print(a.strip())\n",
        "#The replace() method replaces a string with another string:\n",
        "a=\"I went to RRR movie\"\n",
        "print(a.replace(\"RRR\",\"Radhe Shyam\"))\n",
        "print(a.replace(\"R\",\"M\"))\n",
        "#The split() method splits the string into substrings if it finds instances of the separator:\n",
        "a=\"I went to RRR movie\"\n",
        "print(a.split(\" \"))\n",
        "print(a.split(\"RRR\"))"
      ],
      "metadata": {
        "colab": {
          "base_uri": "https://localhost:8080/"
        },
        "id": "bZdf3wNLESus",
        "outputId": "4b7b9d56-8aab-43a0-cc9f-21af2509c8b7"
      },
      "execution_count": null,
      "outputs": [
        {
          "output_type": "stream",
          "name": "stdout",
          "text": [
            "HELLO, WORLD!\n",
            "hello, world!\n",
            "hello\n",
            "I went to Radhe Shyam movie\n",
            "I went to MMM movie\n",
            "['I', 'went', 'to', 'RRR', 'movie']\n",
            "['I went to ', ' movie']\n"
          ]
        }
      ]
    },
    {
      "cell_type": "code",
      "source": [
        "#String Concatenation\n",
        "#Merge variable a with variable b into variable c:\n",
        "a = \"Hello\"\n",
        "b = \"SAKETH\"\n",
        "c = a + b\n",
        "print(c)\n",
        "#To add a space between them, add a \" \":\n",
        "c = a + \" \" + b\n",
        "print(c)\n",
        "#if a is INT and b is string c=a+b it is an error, you have to convert int into string\n",
        "a=123\n",
        "b=\"hello\"\n",
        "a=str(a)\n",
        "c=a+b\n",
        "print(c)"
      ],
      "metadata": {
        "colab": {
          "base_uri": "https://localhost:8080/"
        },
        "id": "FyUMitBPKbps",
        "outputId": "d5018e65-022b-4e1e-c7af-a6b47914043b"
      },
      "execution_count": null,
      "outputs": [
        {
          "output_type": "stream",
          "name": "stdout",
          "text": [
            "HelloSAKETH\n",
            "Hello SAKETH\n",
            "123hello\n"
          ]
        }
      ]
    },
    {
      "cell_type": "code",
      "source": [
        "#format strings\n",
        "#we can combine strings and numbers by using the format() method! The format() method takes the passed arguments, formats them, and places them in the string where the placeholders {} are:\n",
        "age=18\n",
        "txt = \"My name is saketh, and I am {}\"\n",
        "print(txt.format(age))\n",
        "#The format() method takes unlimited number of arguments, and are placed into the respective placeholders:\n",
        "quantity=input(\"enter quantity\")\n",
        "itemno=input(\"enter itemno\")\n",
        "price=input(\"enter price\")\n",
        "order=\"I want {} pieces of item {} for {} ruppees.\"\n",
        "print(order.format(quantity,itemno,price))\n",
        "#You can use index numbers {0} to be sure the arguments are placed in the correct placeholders:\n",
        "order=\"i want to pay {2} ruppess for {0} pieces of item {1}.\"\n",
        "print(order.format(quantity,itemno,price))"
      ],
      "metadata": {
        "colab": {
          "base_uri": "https://localhost:8080/"
        },
        "id": "LtwW7fndLHha",
        "outputId": "6fddcf6f-1cb9-41e4-d295-b0a03f8bce69"
      },
      "execution_count": null,
      "outputs": [
        {
          "output_type": "stream",
          "name": "stdout",
          "text": [
            "My name is saketh, and I am 18\n",
            "enter quantity5\n",
            "enter itemno55\n",
            "enter price744\n",
            "I want 5 pieces of item 55 for 744 ruppees.\n",
            "i want to pay 744 ruppess for 5 pieces of item 55.\n"
          ]
        }
      ]
    },
    {
      "cell_type": "code",
      "source": [
        "#Escape Character\n",
        "#The escape character allows you to use double quotes when you normally would not be allowed:\n",
        "a=\"Hi this is \\\"Laxman Chowdary\\\"\"\n",
        "print(a)\n",
        "a='Hi this\\'s \\\"Laxman Chowdary\\\"'\n",
        "print(a)\n",
        "\n",
        "\n"
      ],
      "metadata": {
        "colab": {
          "base_uri": "https://localhost:8080/"
        },
        "id": "NqsefHThOkak",
        "outputId": "b0325695-68e9-40df-d9ed-4d05efc50fb3"
      },
      "execution_count": null,
      "outputs": [
        {
          "output_type": "stream",
          "name": "stdout",
          "text": [
            "Hi this is \\\"Laxman Chowdary\"\n",
            "Hi this's \"Laxman Chowdary\"\n"
          ]
        }
      ]
    }
  ]
}