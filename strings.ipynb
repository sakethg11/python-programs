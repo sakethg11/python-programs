{
  "nbformat": 4,
  "nbformat_minor": 0,
  "metadata": {
    "colab": {
      "name": "strings",
      "provenance": [],
      "authorship_tag": "ABX9TyM6RCpxu3J2lGNDtBDS84no",
      "include_colab_link": true
    },
    "kernelspec": {
      "name": "python3",
      "display_name": "Python 3"
    },
    "language_info": {
      "name": "python"
    }
  },
  "cells": [
    {
      "cell_type": "markdown",
      "metadata": {
        "id": "view-in-github",
        "colab_type": "text"
      },
      "source": [
        "<a href=\"https://colab.research.google.com/github/sakethg11/python-programs/blob/module-2/strings.ipynb\" target=\"_parent\"><img src=\"https://colab.research.google.com/assets/colab-badge.svg\" alt=\"Open In Colab\"/></a>"
      ]
    },
    {
      "cell_type": "code",
      "execution_count": null,
      "metadata": {
        "id": "Si4KCUb5uhOH"
      },
      "outputs": [],
      "source": [
        "#You can assign a multiline string to a variable by using three quotes:Or three single quotes:\n",
        "a='''Hello this is saketh koduri, and im from Karimnagar, im persuing my Btech in GITAM University'''\n",
        "print (a)"
      ]
    },
    {
      "cell_type": "code",
      "source": [
        "#Get the character at position 1 (remember that the first character has the position 0):\n",
        "a=\"Hello saketh\"\n",
        "print (a[1])"
      ],
      "metadata": {
        "id": "1aXx2WuLukPa"
      },
      "execution_count": null,
      "outputs": []
    },
    {
      "cell_type": "code",
      "source": [
        "#length of a string #(len)\n",
        "a='''Hello this is saketh koduri, and im from Karimnagar, im persuing my Btech in GITAM University'''\n",
        "print(len(a))"
      ],
      "metadata": {
        "id": "RFCQGLDcumQS"
      },
      "execution_count": null,
      "outputs": []
    },
    {
      "cell_type": "code",
      "source": [
        "#Check string\n",
        "a='''Hello this is saketh koduri, and im from Karimnagar, im persuing my Btech in GITAM University'''\n",
        "print(\"is\" in a)\n",
        "print(\"python\" in a)\n",
        "print(\"im\" in a)\n",
        "print(\",\" in a)\n",
        "print(\"'\" in a)"
      ],
      "metadata": {
        "id": "3FTcLWRMuofB"
      },
      "execution_count": null,
      "outputs": []
    },
    {
      "cell_type": "code",
      "source": [
        "#If not\n",
        "a='''Hello this is saketh koduri, and im from Karimnagar, im persuing my Btech in GITAM University'''\n",
        "print(\"Hello\" not in a)\n",
        "print(\"python\" not in a)\n",
        "print(\"this \" not in a)\n",
        "print(\"and\" in a,\"no\" in a)"
      ],
      "metadata": {
        "id": "Ab0MpVEhuqzq"
      },
      "execution_count": null,
      "outputs": []
    },
    {
      "cell_type": "code",
      "source": [
        "#Slicing of a String\n",
        "a=\"i went to Radhe Shyam movie\"\n",
        "print(a[0:6])\n",
        "print(a[2:5])\n",
        "print(a[0:200])\n",
        "#slice from the start\n",
        "print(a[:5])\n",
        "#slice to the end\n",
        "print(a[5:])\n",
        "#Negative Indexing\n",
        "print(a[-5:-1])\n",
        "print(a[-13:22])\n",
        "#wrong indexing\n",
        "print(a[5:1])\n",
        "print(a[10:3])"
      ],
      "metadata": {
        "id": "lOIcMDhjutBZ"
      },
      "execution_count": null,
      "outputs": []
    },
    {
      "cell_type": "code",
      "source": [
        "#Modifying strings\n",
        "#uppercase and lowercase\n",
        "a = \"Hello, World!\"\n",
        "print(a.upper())\n",
        "\n",
        "print(a.lower())\n",
        "#The strip() method removes any whitespace from the beginning or the end:\n",
        "a=\"    hello\"\n",
        "print(a.strip())\n",
        "#The replace() method replaces a string with another string:\n",
        "a=\"I went to RRR movie\"\n",
        "print(a.replace(\"RRR\",\"Radhe Shyam\"))\n",
        "print(a.replace(\"R\",\"M\"))\n",
        "#The split() method splits the string into substrings if it finds instances of the separator:\n",
        "a=\"I went to RRR movie\"\n",
        "print(a.split(\" \"))\n",
        "print(a.split(\"RRR\"))"
      ],
      "metadata": {
        "id": "-DLv4KX9uvnS"
      },
      "execution_count": null,
      "outputs": []
    },
    {
      "cell_type": "code",
      "source": [
        "#String Concatenation\n",
        "#Merge variable a with variable b into variable c:\n",
        "a = \"Hello\"\n",
        "b = \"SAKETH\"\n",
        "c = a + b\n",
        "print(c)\n",
        "#To add a space between them, add a \" \":\n",
        "c = a + \" \" + b\n",
        "print(c)\n",
        "#if a is INT and b is string c=a+b it is an error, you have to convert int into string\n",
        "a=123\n",
        "b=\"hello\"\n",
        "a=str(a)\n",
        "c=a+b\n",
        "print(c)"
      ],
      "metadata": {
        "id": "RcG9YnXLuyly"
      },
      "execution_count": null,
      "outputs": []
    },
    {
      "cell_type": "code",
      "source": [
        "#format strings\n",
        "#we can combine strings and numbers by using the format() method! The format() method takes the passed arguments, formats them, and places them in the string where the placeholders {} are:\n",
        "age=18\n",
        "txt = \"My name is saketh, and I am {}\"\n",
        "print(txt.format(age))\n",
        "#The format() method takes unlimited number of arguments, and are placed into the respective placeholders:\n",
        "quantity=input(\"enter quantity\")\n",
        "itemno=input(\"enter itemno\")\n",
        "price=input(\"enter price\")\n",
        "order=\"I want {} pieces of item {} for {} ruppees.\"\n",
        "print(order.format(quantity,itemno,price))\n",
        "#You can use index numbers {0} to be sure the arguments are placed in the correct placeholders:\n",
        "order=\"i want to pay {2} ruppess for {0} pieces of item {1}.\"\n",
        "print(order.format(quantity,itemno,price))"
      ],
      "metadata": {
        "id": "SaGOVAZEu075"
      },
      "execution_count": null,
      "outputs": []
    },
    {
      "cell_type": "code",
      "source": [
        "#Escape Character\n",
        "#The escape character allows you to use double quotes when you normally would not be allowed:\n",
        "a=\"Hi this is \\\"Saketh Koduri\\\"\"\n",
        "print(a)\n",
        "a='Hi this\\'s \\\"Saketh Koduri\\\"'\n",
        "print(a)"
      ],
      "metadata": {
        "id": "VpBBXfc2u4Ba"
      },
      "execution_count": null,
      "outputs": []
    }
  ]
}