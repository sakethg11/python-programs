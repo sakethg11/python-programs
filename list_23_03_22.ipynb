{
  "nbformat": 4,
  "nbformat_minor": 0,
  "metadata": {
    "colab": {
      "name": "list 23.03.22",
      "provenance": [],
      "authorship_tag": "ABX9TyPYNXPRIoqPwZ6Xk71GVF8W",
      "include_colab_link": true
    },
    "kernelspec": {
      "name": "python3",
      "display_name": "Python 3"
    },
    "language_info": {
      "name": "python"
    }
  },
  "cells": [
    {
      "cell_type": "markdown",
      "metadata": {
        "id": "view-in-github",
        "colab_type": "text"
      },
      "source": [
        "<a href=\"https://colab.research.google.com/github/sakethg11/python-programs/blob/module-2/list_23_03_22.ipynb\" target=\"_parent\"><img src=\"https://colab.research.google.com/assets/colab-badge.svg\" alt=\"Open In Colab\"/></a>"
      ]
    },
    {
      "cell_type": "code",
      "execution_count": null,
      "metadata": {
        "colab": {
          "base_uri": "https://localhost:8080/"
        },
        "id": "GIRImm1c4ECP",
        "outputId": "5fef82e8-d6fa-4281-8709-fe409b4ba0d8"
      },
      "outputs": [
        {
          "output_type": "stream",
          "name": "stdout",
          "text": [
            "kiwi\n",
            "pears\n",
            "['kiwi', 'pears']\n"
          ]
        }
      ],
      "source": [
        "fruit=[\"appple\",\"bannana\",\"guava\",\"kiwi\",\"pears\"]\n",
        "print(fruit[3])\n",
        "print(fruit[-1])\n",
        "print(fruit[3:])\n"
      ]
    },
    {
      "cell_type": "code",
      "source": [
        "odd=[\"2\",\"4\",\"6\",\"8\"]\n",
        "odd[0]=3\n",
        "print(odd)\n",
        "odd[1:4]=[3,5,7]\n",
        "print(odd)"
      ],
      "metadata": {
        "colab": {
          "base_uri": "https://localhost:8080/"
        },
        "id": "5fvGGBzE8sKE",
        "outputId": "791ef92b-b7ec-4c4e-a4d0-c501d84c51c8"
      },
      "execution_count": null,
      "outputs": [
        {
          "output_type": "stream",
          "name": "stdout",
          "text": [
            "[3, '4', '6', '8']\n",
            "[3, 3, 5, 7]\n"
          ]
        }
      ]
    },
    {
      "cell_type": "code",
      "source": [
        ""
      ],
      "metadata": {
        "id": "F97zE7YBDt0M"
      },
      "execution_count": null,
      "outputs": []
    },
    {
      "cell_type": "code",
      "source": [
        "odd=[2,4,6,8]\n",
        "odd.append(9)\n",
        "print(odd)\n",
        "odd.extend([10,11,12,13])\n",
        "print(odd)"
      ],
      "metadata": {
        "colab": {
          "base_uri": "https://localhost:8080/"
        },
        "id": "gAHr-NiS-AV0",
        "outputId": "0a681483-8bc3-42e7-b351-eb924829cbb6"
      },
      "execution_count": null,
      "outputs": [
        {
          "output_type": "stream",
          "name": "stdout",
          "text": [
            "[2, 4, 6, 8, 9]\n",
            "[2, 4, 6, 8, 9, 10, 11, 12, 13]\n"
          ]
        }
      ]
    },
    {
      "cell_type": "code",
      "source": [
        "odd=[2,4,6,8]\n",
        "odd.insert(2,3)\n",
        "print(odd)"
      ],
      "metadata": {
        "colab": {
          "base_uri": "https://localhost:8080/"
        },
        "id": "8oLDgIo1-nki",
        "outputId": "fcb2481a-6fac-49dd-cba1-b6685b8ee603"
      },
      "execution_count": null,
      "outputs": [
        {
          "output_type": "stream",
          "name": "stdout",
          "text": [
            "[2, 4, 3, 6, 8]\n"
          ]
        }
      ]
    },
    {
      "cell_type": "code",
      "source": [
        "odd=[2,4,6,9]\n",
        "odd[3:3]=[3,5]\n",
        "print(odd)"
      ],
      "metadata": {
        "colab": {
          "base_uri": "https://localhost:8080/"
        },
        "id": "76yysjG2ACir",
        "outputId": "8b72d13d-dd1a-438d-aae5-3b5b73071497"
      },
      "execution_count": null,
      "outputs": [
        {
          "output_type": "stream",
          "name": "stdout",
          "text": [
            "[2, 4, 6, 3, 5, 9]\n"
          ]
        }
      ]
    },
    {
      "cell_type": "code",
      "source": [
        "odd=[2,3,4,5]\n",
        "odd.insert(2,6)\n",
        "print(odd)\n",
        "odd[2:2]=[8,9,10]\n",
        "print(odd)\n",
        "odd.reverse()\n",
        "print(odd)"
      ],
      "metadata": {
        "colab": {
          "base_uri": "https://localhost:8080/"
        },
        "id": "29Qo0IyiAYxL",
        "outputId": "9e1be338-fdf5-47f0-cf92-96a8e5347a4b"
      },
      "execution_count": null,
      "outputs": [
        {
          "output_type": "stream",
          "name": "stdout",
          "text": [
            "[2, 3, 6, 4, 5]\n",
            "[2, 3, 8, 9, 10, 6, 4, 5]\n",
            "[5, 4, 6, 10, 9, 8, 3, 2]\n"
          ]
        }
      ]
    },
    {
      "cell_type": "code",
      "source": [
        ""
      ],
      "metadata": {
        "id": "95LENLlYMB_8"
      },
      "execution_count": null,
      "outputs": []
    },
    {
      "cell_type": "code",
      "source": [
        "my_list = ['p', 'r', 'o', 'b', 'l', 'e', 'm']\n",
        "\n",
        "# delete one item\n",
        "del my_list[2]\n",
        "\n",
        "print(my_list)\n",
        "\n",
        "# delete multiple items\n",
        "del my_list[1:5]\n",
        "\n",
        "print(my_list)\n",
        "\n"
      ],
      "metadata": {
        "colab": {
          "base_uri": "https://localhost:8080/"
        },
        "id": "LNXUHZA8CWwM",
        "outputId": "a8600d2f-2877-4fef-a210-965d446b9cf8"
      },
      "execution_count": null,
      "outputs": [
        {
          "output_type": "stream",
          "name": "stdout",
          "text": [
            "['p', 'r', 'b', 'l', 'e', 'm']\n",
            "['p', 'm']\n"
          ]
        }
      ]
    },
    {
      "cell_type": "code",
      "source": [
        "i=[1,2,3,4,5]\n",
        "print(list(range(1,5,1)))\n",
        "print(i)\n"
      ],
      "metadata": {
        "colab": {
          "base_uri": "https://localhost:8080/"
        },
        "id": "rGSk4RZfDwii",
        "outputId": "5f8c3e41-b734-4183-ca57-9f5abf6b54ea"
      },
      "execution_count": null,
      "outputs": [
        {
          "output_type": "stream",
          "name": "stdout",
          "text": [
            "[1, 2, 3, 4]\n",
            "[1, 2, 3, 4, 5]\n"
          ]
        }
      ]
    },
    {
      "cell_type": "code",
      "source": [
        "fruit=[2,6,1,8,56]\n",
        "print(len(fruit))\n",
        "fruit.sort()\n",
        "print(fruit)\n",
        "fruit.reverse()\n",
        "print(fruit)"
      ],
      "metadata": {
        "colab": {
          "base_uri": "https://localhost:8080/"
        },
        "id": "7QCM9iiGMDC6",
        "outputId": "30607e48-3758-46aa-901d-22d85ca5e488"
      },
      "execution_count": null,
      "outputs": [
        {
          "output_type": "stream",
          "name": "stdout",
          "text": [
            "5\n",
            "[1, 2, 6, 8, 56]\n",
            "[56, 8, 6, 2, 1]\n"
          ]
        }
      ]
    }
  ]
}