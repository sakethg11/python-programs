{
  "nbformat": 4,
  "nbformat_minor": 0,
  "metadata": {
    "colab": {
      "name": "module 1.ipynb",
      "provenance": [],
      "include_colab_link": true
    },
    "kernelspec": {
      "name": "python3",
      "display_name": "Python 3"
    },
    "language_info": {
      "name": "python"
    }
  },
  "cells": [
    {
      "cell_type": "markdown",
      "metadata": {
        "id": "view-in-github",
        "colab_type": "text"
      },
      "source": [
        "<a href=\"https://colab.research.google.com/github/sakethg11/python-programs/blob/module-1/module_1.ipynb\" target=\"_parent\"><img src=\"https://colab.research.google.com/assets/colab-badge.svg\" alt=\"Open In Colab\"/></a>"
      ]
    },
    {
      "cell_type": "code",
      "execution_count": null,
      "metadata": {
        "id": "xbD4U6gLkaXG"
      },
      "outputs": [],
      "source": [
        "a=int(input(\"\"))\n",
        "print(a)"
      ]
    },
    {
      "cell_type": "code",
      "source": [
        "a=int(input(\"\"))\n",
        "print(float(a))\n",
        "print(str(a))\n",
        "print(complex(a))\n",
        "print(str(a))"
      ],
      "metadata": {
        "id": "xZCLYJGHkd1U"
      },
      "execution_count": null,
      "outputs": []
    },
    {
      "cell_type": "code",
      "source": [
        "a=int(input(\"\"))\n",
        "b=int(input(\"\"))\n",
        "print(a+b)\n",
        "print(a-b)\n",
        "print(a*b)\n",
        "print(a/b)"
      ],
      "metadata": {
        "id": "RwFztuTxkinS"
      },
      "execution_count": null,
      "outputs": []
    },
    {
      "cell_type": "code",
      "source": [
        "a=int(input(\"\"))\n",
        "print(type(a))\n",
        "b=float(a)\n",
        "print(type(b))"
      ],
      "metadata": {
        "id": "jP_zSIVmkkKZ"
      },
      "execution_count": null,
      "outputs": []
    },
    {
      "cell_type": "code",
      "source": [
        "#hours to minutes\n",
        "a=int(input(\"\")) #hours\n",
        "print(a*60,\"seconds\")"
      ],
      "metadata": {
        "id": "UwsZIfvrknGC"
      },
      "execution_count": null,
      "outputs": []
    },
    {
      "cell_type": "code",
      "source": [
        "a=int(input(\"\"))\n",
        "print(a*1.60934,\"KM\")"
      ],
      "metadata": {
        "id": "Qfv8TyeUkrsy"
      },
      "execution_count": null,
      "outputs": []
    },
    {
      "cell_type": "code",
      "source": [
        "#usage of mathematical fuctions in python like math.ceil,floor,fabs,fmod,trunc,pow,sqrt etc\n",
        "import math\n",
        "a=float(input(\"\"))\n",
        "b=float(input(\"\"))\n",
        "print(math.ceil(a)) #rounding off to nearest number and printing greatest integer\n",
        "print(math.floor(a)) #taking only integer value and printing smallest integer\n",
        "print(math.fabs(a))   #printing the modulus value\n",
        "print(math.fmod(a,b)) #remainder\n",
        "print(math.sqrt(a)) #squaring\n",
        "print(math.pow(a,b))\n",
        "print(math.trunc(a)) #"
      ],
      "metadata": {
        "id": "GWaGSssdku1L"
      },
      "execution_count": null,
      "outputs": []
    },
    {
      "cell_type": "code",
      "source": [
        "#maths calculator\n",
        "a=float(input(\"\"))\n",
        "b=float(input(\"\"))\n",
        "c=str(input(\"\"))\n",
        "if c=='+':\n",
        " print(a+b)\n",
        "elif c=='-' :\n",
        "    print(a-b)\n",
        "elif c=='*':\n",
        "    print(a*b)\n",
        "else:\n",
        "    print(a/b)"
      ],
      "metadata": {
        "id": "ifSbZQSDkzbi"
      },
      "execution_count": null,
      "outputs": []
    },
    {
      "cell_type": "code",
      "source": [
        "#grade\n",
        "a=int(input(\"\"))\n",
        "b=int(input(\"\"))\n",
        "c=int(input(\"\"))\n",
        "d=int(input(\"\"))\n",
        "e=int(input(\"\"))\n",
        "f=(a+b+c+d+e)/5\n",
        "if f>=90:\n",
        "    print(\"O\")\n",
        "elif f>80 and f<90:\n",
        "    print(\"A\")\n",
        "else:\n",
        "    print(\"FAIL\")"
      ],
      "metadata": {
        "id": "Qgv-jhYok2eC"
      },
      "execution_count": null,
      "outputs": []
    },
    {
      "cell_type": "code",
      "source": [
        "for i in range(1,100):\n",
        "    if i%2==0:\n",
        "        print(i)"
      ],
      "metadata": {
        "id": "G8OfRXlGk9M6"
      },
      "execution_count": null,
      "outputs": []
    },
    {
      "cell_type": "code",
      "source": [
        "#compound\n",
        "p = float(input(\"\"))\n",
        "r = float(input(\"\"))\n",
        "n = int(input(\"\"))\n",
        "t = int(input(\"\"))\n",
        "amount = p * (1 + r/(100 * n))**(n*t)\n",
        "ci = amount - p;\n",
        "print(\"Compound interest = \",round(ci, 2))"
      ],
      "metadata": {
        "id": "RP85PWWKPDKA"
      },
      "execution_count": null,
      "outputs": []
    },
    {
      "cell_type": "code",
      "source": [
        "#factorial\n",
        "n=int(input(\"enter a number \"))\n",
        "fac=1\n",
        "for i in range(1,n+1):\n",
        "  fac=fac*i\n",
        "\n",
        "print(fac)"
      ],
      "metadata": {
        "id": "sO1gPltQPI7L"
      },
      "execution_count": null,
      "outputs": []
    },
    {
      "cell_type": "code",
      "source": [
        "#fibonacci\n",
        "n = int(input(\"\"))\n",
        "n1, n2 = 0, 1\n",
        "count = 0\n",
        "if n <= 0:\n",
        "   print(\"Please enter a positive integer\")\n",
        "elif n == 1:\n",
        "   print(n1)\n",
        "else:\n",
        "   print(\"Fibonacci sequence:\")\n",
        "   while count < n:\n",
        "       print(n1)\n",
        "       nth = n1 + n2\n",
        "       n1 = n2\n",
        "       n2 = nth\n",
        "       count += 1"
      ],
      "metadata": {
        "id": "jIv9ORsVPPC1"
      },
      "execution_count": null,
      "outputs": []
    },
    {
      "cell_type": "code",
      "source": [
        "#gcd\n",
        "a=int(input(\"enter a number\"))\n",
        "b=int(input(\"enter a number\"))\n",
        "k=a if a<b else b\n",
        "while True:\n",
        "    if a%k==0 and b%k==0:\n",
        "     break\n",
        "    k -=1\n",
        "print(k)"
      ],
      "metadata": {
        "id": "FKjyRQCoPWrW"
      },
      "execution_count": null,
      "outputs": []
    },
    {
      "cell_type": "code",
      "source": [
        "#pallindrome\n",
        "a = str(input(\"\"))\n",
        "a = a.casefold()\n",
        "b = reversed(a)\n",
        "if list(a) == list(b):\n",
        "   print(\"The string is a palindrome.\")\n",
        "else:\n",
        "   print(\"The string is not a palindrome.\")\n"
      ],
      "metadata": {
        "id": "Xxvg6ZVbPhC8"
      },
      "execution_count": null,
      "outputs": []
    },
    {
      "cell_type": "code",
      "source": [
        "#perfect\n",
        "n=int(input(\"Enter the number: \"))  \n",
        "sum=0  \n",
        "for i in range(1,n):  \n",
        "    if (n%i==0):  \n",
        "        sum=sum+i  \n",
        "if(sum==n):  \n",
        "    print(\"perfect number\")  \n",
        "else:  \n",
        "    print(\"not a perfect number\")  "
      ],
      "metadata": {
        "id": "PukZ8vH1Poi7"
      },
      "execution_count": null,
      "outputs": []
    },
    {
      "cell_type": "code",
      "source": [
        "#strong\n",
        "sum=0\n",
        "num=int(input(\"\"))\n",
        "a=num\n",
        "while(num):\n",
        "    i=1\n",
        "    f=1\n",
        "    r=num%10\n",
        "    while(i<=r):\n",
        "        f=f*i\n",
        "        i=i+1\n",
        "    sum=sum+f\n",
        "    num=num//10\n",
        "if(sum==a):\n",
        "    print(\"The number is a strong number\")\n",
        "else:\n",
        "    print(\"The number is not a strong number\")\n",
        "    "
      ],
      "metadata": {
        "id": "1BfgoHVlPt58"
      },
      "execution_count": null,
      "outputs": []
    },
    {
      "cell_type": "code",
      "source": [
        "n=int(input(\"\"))\n",
        "i=0\n",
        "while i<n:\n",
        "  i = i + 1\n",
        "  if i%2==0:\n",
        "    print(i)"
      ],
      "metadata": {
        "id": "HB-9dOeXk_mi"
      },
      "execution_count": null,
      "outputs": []
    }
  ]
}